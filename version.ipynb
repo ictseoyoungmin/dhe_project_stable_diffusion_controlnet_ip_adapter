{
 "cells": [
  {
   "cell_type": "markdown",
   "id": "1e153b27",
   "metadata": {},
   "source": [
    "### Requirements.txt"
   ]
  },
  {
   "cell_type": "code",
   "execution_count": 1,
   "id": "ad054ba5",
   "metadata": {},
   "outputs": [
    {
     "name": "stdout",
     "output_type": "stream",
     "text": [
      "NO_TF = None\n",
      "torch: 2.8.0+cu128\n",
      "diffusers: 0.34.0\n",
      "transformers: 4.55.0\n",
      "CLIPImageProcessor OK\n"
     ]
    }
   ],
   "source": [
    "import os\n",
    "print(\"NO_TF =\", os.getenv(\"TRANSFORMERS_NO_TF\"))\n",
    "import torch, diffusers, transformers\n",
    "print(\"torch:\", torch.__version__)\n",
    "print(\"diffusers:\", diffusers.__version__)\n",
    "print(\"transformers:\", transformers.__version__)\n",
    "# 이때 from transformers import CLIPImageProcessor 가 에러 없이 되어야 정상\n",
    "from transformers import CLIPImageProcessor\n",
    "print(\"CLIPImageProcessor OK\")\n"
   ]
  }
 ],
 "metadata": {
  "kernelspec": {
   "display_name": "Python 3",
   "language": "python",
   "name": "python3"
  },
  "language_info": {
   "codemirror_mode": {
    "name": "ipython",
    "version": 3
   },
   "file_extension": ".py",
   "mimetype": "text/x-python",
   "name": "python",
   "nbconvert_exporter": "python",
   "pygments_lexer": "ipython3",
   "version": "3.10.12"
  }
 },
 "nbformat": 4,
 "nbformat_minor": 5
}
